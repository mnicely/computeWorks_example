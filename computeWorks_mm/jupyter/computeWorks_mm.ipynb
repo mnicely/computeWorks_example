{
 "cells": [
  {
   "cell_type": "markdown",
   "metadata": {},
   "source": [
    "# test"
   ]
  },
  {
   "cell_type": "code",
   "execution_count": 1,
   "metadata": {},
   "outputs": [
    {
     "name": "stdout",
     "output_type": "stream",
     "text": [
      "Wed Jun 12 10:32:43 2019       \r\n",
      "+-----------------------------------------------------------------------------+\r\n",
      "| NVIDIA-SMI 418.67       Driver Version: 418.67       CUDA Version: 10.1     |\r\n",
      "|-------------------------------+----------------------+----------------------+\r\n",
      "| GPU  Name        Persistence-M| Bus-Id        Disp.A | Volatile Uncorr. ECC |\r\n",
      "| Fan  Temp  Perf  Pwr:Usage/Cap|         Memory-Usage | GPU-Util  Compute M. |\r\n",
      "|===============================+======================+======================|\r\n",
      "|   0  TITAN V             Off  | 00000000:01:00.0  On |                  N/A |\r\n",
      "| 38%   54C    P2    33W / 250W |   1474MiB / 12033MiB |      3%      Default |\r\n",
      "+-------------------------------+----------------------+----------------------+\r\n",
      "|   1  GeForce GTX 1080    Off  | 00000000:02:00.0 Off |                  N/A |\r\n",
      "|  0%   48C    P8     9W / 215W |      2MiB /  8119MiB |      0%      Default |\r\n",
      "+-------------------------------+----------------------+----------------------+\r\n",
      "                                                                               \r\n",
      "+-----------------------------------------------------------------------------+\r\n",
      "| Processes:                                                       GPU Memory |\r\n",
      "|  GPU       PID   Type   Process name                             Usage      |\r\n",
      "|=============================================================================|\r\n",
      "|    0      1344      G   /usr/lib/xorg/Xorg                           802MiB |\r\n",
      "|    0      1646      G   /usr/bin/krunner                               6MiB |\r\n",
      "|    0      1648      G   /usr/bin/plasmashell                         463MiB |\r\n",
      "|    0      1916      G   ...quest-channel-token=3741890135768988872   199MiB |\r\n",
      "+-----------------------------------------------------------------------------+\r\n"
     ]
    }
   ],
   "source": [
    "!nvidia-smi"
   ]
  },
  {
   "cell_type": "code",
   "execution_count": 2,
   "metadata": {},
   "outputs": [
    {
     "name": "stdout",
     "output_type": "stream",
     "text": [
      "nvcc: NVIDIA (R) Cuda compiler driver\r\n",
      "Copyright (c) 2005-2019 NVIDIA Corporation\r\n",
      "Built on Wed_Apr_24_19:10:27_PDT_2019\r\n",
      "Cuda compilation tools, release 10.1, V10.1.168\r\n"
     ]
    }
   ],
   "source": [
    "!nvcc -V"
   ]
  },
  {
   "cell_type": "code",
   "execution_count": 3,
   "metadata": {},
   "outputs": [
    {
     "name": "stdout",
     "output_type": "stream",
     "text": [
      "\r\n",
      "pgc++ 19.4-0 LLVM 64-bit target on x86-64 Linux -tp haswell \r\n",
      "PGI Compilers and Tools\r\n",
      "Copyright (c) 2019, NVIDIA CORPORATION.  All rights reserved.\r\n"
     ]
    }
   ],
   "source": [
    "!pgc++ -V"
   ]
  },
  {
   "cell_type": "markdown",
   "metadata": {},
   "source": [
    "# Normal\n",
    "[normal_C.cpp](/edit/normal_C.cpp)"
   ]
  },
  {
   "cell_type": "code",
   "execution_count": 4,
   "metadata": {},
   "outputs": [
    {
     "name": "stdout",
     "output_type": "stream",
     "text": [
      "No input given.\n",
      "Running with N = 1024\n",
      "\n",
      "Running Normal C: 1285.17 ms\n"
     ]
    }
   ],
   "source": [
    "!nvcc --run normal_C.cpp -O2 -o normal_C"
   ]
  },
  {
   "cell_type": "code",
   "execution_count": 5,
   "metadata": {},
   "outputs": [
    {
     "name": "stdout",
     "output_type": "stream",
     "text": [
      "Running with N = 128\r\n",
      "\r\n",
      "Running Normal C: 1.47 ms\r\n"
     ]
    }
   ],
   "source": [
    "!./normal_C 128"
   ]
  },
  {
   "cell_type": "markdown",
   "metadata": {},
   "source": [
    "Try\n",
    "Changing -O3 to -O0\n",
    "Changing input paramater `./normal_C 128`. Higher than default, 1024, will take longer."
   ]
  },
  {
   "cell_type": "markdown",
   "metadata": {},
   "source": [
    "# OpenMP\n",
    "[openmp.cpp](/edit/openmp.cpp)"
   ]
  },
  {
   "cell_type": "code",
   "execution_count": 6,
   "metadata": {},
   "outputs": [
    {
     "name": "stdout",
     "output_type": "stream",
     "text": [
      "No input given.\n",
      "Running with N = 1024\n",
      "\n",
      "Running Normal C: 1521.29 ms\n",
      "Running OpenMP: 243.20 ms\n",
      "Test passed.\n"
     ]
    }
   ],
   "source": [
    "!nvcc --run -ccbin pgc++ -O2 -Xcompiler \"-V19.4 -mp\" openmp.cpp -o openmp"
   ]
  },
  {
   "cell_type": "markdown",
   "metadata": {},
   "source": [
    "Try\n",
    "Removing -mp from build command\n",
    "Changing omp_set_num_threads( 6 ) to 2, 4, or more.\n",
    "Changing input paramater `./normal_C 128`. Higher than default, 1024, will take longer."
   ]
  },
  {
   "cell_type": "markdown",
   "metadata": {},
   "source": [
    "# OpenACC\n",
    "[openacc.cpp](/edit/openacc.cpp)"
   ]
  },
  {
   "cell_type": "code",
   "execution_count": 7,
   "metadata": {},
   "outputs": [
    {
     "name": "stdout",
     "output_type": "stream",
     "text": [
      "No input given.\n",
      "Running with N = 1024\n",
      "\n",
      "Running Normal C: 1320.65 ms\n",
      "Running OpenACC: Test passed.\n"
     ]
    }
   ],
   "source": [
    "!nvcc --run -ccbin pgc++ -O2 -Xcompiler \"-V19.4 -Bstatic_pgi -acc -ta=tesla:nordc\" openacc.cpp -o openacc"
   ]
  },
  {
   "cell_type": "markdown",
   "metadata": {},
   "source": [
    "No time??"
   ]
  },
  {
   "cell_type": "code",
   "execution_count": 8,
   "metadata": {},
   "outputs": [
    {
     "name": "stdout",
     "output_type": "stream",
     "text": [
      "No input given.\n",
      "Running with N = 1024\n",
      "\n",
      "Running Normal C: 1305.89 ms\n",
      "Running OpenACC: CUPTI ERROR: cuptiActivityEnable(CUPTI_ACTIVITY_KIND_KERNEL) returned: CUPTI_ERROR_INSUFFICIENT_PRIVILEGES, \n",
      "\t at ../src-cupti/prof_cuda_cupti.c:265.\n",
      "Test passed.\n",
      "\n",
      "Accelerator Kernel Timing data\n",
      "/home/belt/git/computeWorks_examples/computeWorks_mm/jupyter/openacc.cpp\n",
      "  _Z7openACCifPKfS0_fPfRKi  NVIDIA  devicenum=0\n",
      "    time(us): 11,381\n",
      "    43: compute region reached 5 times\n",
      "        49: kernel launched 5 times\n",
      "            grid: [8x1024]  block: [128]\n",
      "            elapsed time(us): total=10,907 max=2,211 min=2,121 avg=2,181\n",
      "    43: data region reached 10 times\n",
      "        43: data copyin transfers: 10\n",
      "             device time(us): total=7,367 max=1,091 min=648 avg=736\n",
      "        58: data copyout transfers: 5\n",
      "             device time(us): total=4,014 max=1,082 min=641 avg=802\n"
     ]
    }
   ],
   "source": [
    "!nvcc --run -ccbin pgc++ -O2 -Xcompiler \"-V19.4 -Bstatic_pgi -acc -ta=tesla:nordc -ta=time\" openacc.cpp -o openacc"
   ]
  },
  {
   "cell_type": "markdown",
   "metadata": {},
   "source": [
    "Why error? While if you are running the newest driver, 410.67, profiling requires elevated permissions"
   ]
  },
  {
   "cell_type": "code",
   "execution_count": null,
   "metadata": {},
   "outputs": [
    {
     "name": "stdout",
     "output_type": "stream",
     "text": [
      "[sudo] password for belt: "
     ]
    }
   ],
   "source": [
    "\n",
    "!sudo LD_LIBRARY_PATH=/usr/local/cuda/extra/CUPTI/lib64:$LD_LIBRARY_PATH ./openacc"
   ]
  },
  {
   "cell_type": "markdown",
   "metadata": {},
   "source": [
    "# BLAS\n",
    "[blas.cpp](/edit/blas.cpp)"
   ]
  },
  {
   "cell_type": "code",
   "execution_count": null,
   "metadata": {},
   "outputs": [],
   "source": [
    "!nvcc --run -ccbin pgc++ -O2 -Xlinker \"-lblas\" -Xcompiler \"-V19.4\" blas.cpp -o blas"
   ]
  },
  {
   "cell_type": "code",
   "execution_count": null,
   "metadata": {},
   "outputs": [],
   "source": [
    "!./blas 128"
   ]
  },
  {
   "cell_type": "markdown",
   "metadata": {},
   "source": []
  },
  {
   "cell_type": "markdown",
   "metadata": {},
   "source": [
    "# cuBLAS\n",
    "[cublas.cpp](/edit/cublas.cpp)"
   ]
  },
  {
   "cell_type": "code",
   "execution_count": null,
   "metadata": {},
   "outputs": [],
   "source": [
    "!nvcc --run -O2 -lcublas cublas.cpp -o cublas"
   ]
  },
  {
   "cell_type": "code",
   "execution_count": null,
   "metadata": {},
   "outputs": [],
   "source": [
    "!./cublas 128"
   ]
  },
  {
   "cell_type": "markdown",
   "metadata": {},
   "source": []
  },
  {
   "cell_type": "markdown",
   "metadata": {},
   "source": [
    "# CUDA\n",
    "[cuda.cu](/edit/cuda.cu)"
   ]
  },
  {
   "cell_type": "code",
   "execution_count": null,
   "metadata": {},
   "outputs": [],
   "source": [
    "!nvcc --run -O2 cuda.cu -o cuda"
   ]
  },
  {
   "cell_type": "code",
   "execution_count": null,
   "metadata": {},
   "outputs": [],
   "source": [
    "!./cuda 128"
   ]
  },
  {
   "cell_type": "markdown",
   "metadata": {},
   "source": []
  }
 ],
 "metadata": {
  "kernelspec": {
   "display_name": "Python 3",
   "language": "python",
   "name": "python3"
  },
  "language_info": {
   "codemirror_mode": {
    "name": "ipython",
    "version": 3
   },
   "file_extension": ".py",
   "mimetype": "text/x-python",
   "name": "python",
   "nbconvert_exporter": "python",
   "pygments_lexer": "ipython3",
   "version": "3.6.8"
  }
 },
 "nbformat": 4,
 "nbformat_minor": 2
}
