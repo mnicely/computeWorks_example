{
 "cells": [
  {
   "cell_type": "markdown",
   "metadata": {},
   "source": [
    "# test"
   ]
  },
  {
   "cell_type": "code",
   "execution_count": null,
   "metadata": {},
   "outputs": [],
   "source": [
    "!nvidia-smi"
   ]
  },
  {
   "cell_type": "code",
   "execution_count": null,
   "metadata": {},
   "outputs": [],
   "source": [
    "!nvcc -V"
   ]
  },
  {
   "cell_type": "code",
   "execution_count": null,
   "metadata": {},
   "outputs": [],
   "source": [
    "!pgc++ -V"
   ]
  },
  {
   "cell_type": "markdown",
   "metadata": {},
   "source": [
    "# Normal\n",
    "[normal_C.cpp](/edit/normal_C.cpp)"
   ]
  },
  {
   "cell_type": "code",
   "execution_count": null,
   "metadata": {},
   "outputs": [],
   "source": [
    "!nvcc --run normal_C.cpp -O2 -o normal_C"
   ]
  },
  {
   "cell_type": "code",
   "execution_count": null,
   "metadata": {},
   "outputs": [],
   "source": [
    "!./normal_C 128"
   ]
  },
  {
   "cell_type": "markdown",
   "metadata": {},
   "source": [
    "Try\n",
    "Changing -O3 to -O0\n",
    "Changing input paramater `./normal_C 128`. Higher than default, 1024, will take longer."
   ]
  },
  {
   "cell_type": "markdown",
   "metadata": {},
   "source": [
    "# OpenMP\n",
    "[openmp.cpp](/edit/openmp.cpp)"
   ]
  },
  {
   "cell_type": "code",
   "execution_count": null,
   "metadata": {},
   "outputs": [],
   "source": [
    "!nvcc --run -ccbin pgc++ -O2 -Xcompiler \"-V19.4 -mp\" openmp.cpp -o openmp"
   ]
  },
  {
   "cell_type": "markdown",
   "metadata": {},
   "source": [
    "Try\n",
    "Removing -mp from build command\n",
    "Changing omp_set_num_threads( 6 ) to 2, 4, or more.\n",
    "Changing input paramater `./normal_C 128`. Higher than default, 1024, will take longer."
   ]
  },
  {
   "cell_type": "markdown",
   "metadata": {},
   "source": [
    "# OpenACC\n",
    "[openacc.cpp](/edit/openacc.cpp)"
   ]
  },
  {
   "cell_type": "code",
   "execution_count": 1,
   "metadata": {},
   "outputs": [
    {
     "name": "stdout",
     "output_type": "stream",
     "text": [
      "No input given.\n",
      "Running with N = 1024\n",
      "\n",
      "Running Normal C: 1302.21 ms\n",
      "Running OpenACC: Test passed.\n"
     ]
    }
   ],
   "source": [
    "!nvcc --run -ccbin pgc++ -O2 -Xcompiler \"-V19.4 -Bstatic_pgi -acc -ta=tesla:nordc\" openacc.cpp -o openacc"
   ]
  },
  {
   "cell_type": "markdown",
   "metadata": {},
   "source": [
    "No time??"
   ]
  },
  {
   "cell_type": "code",
   "execution_count": 2,
   "metadata": {},
   "outputs": [
    {
     "name": "stdout",
     "output_type": "stream",
     "text": [
      "No input given.\n",
      "Running with N = 1024\n",
      "\n",
      "Running Normal C: 1271.48 ms\n",
      "Running OpenACC: CUPTI ERROR: cuptiActivityEnable(CUPTI_ACTIVITY_KIND_KERNEL) returned: CUPTI_ERROR_INSUFFICIENT_PRIVILEGES, \n",
      "\t at ../src-cupti/prof_cuda_cupti.c:265.\n",
      "Test passed.\n",
      "\n",
      "Accelerator Kernel Timing data\n",
      "/home/belt/git/computeWorks_examples/computeWorks_mm/jupyter/openacc.cpp\n",
      "  _Z7openACCifPKfS0_fPfRKi  NVIDIA  devicenum=0\n",
      "    time(us): 10,410\n",
      "    43: compute region reached 5 times\n",
      "        49: kernel launched 5 times\n",
      "            grid: [8x1024]  block: [128]\n",
      "            elapsed time(us): total=11,760 max=3,107 min=2,085 avg=2,352\n",
      "    43: data region reached 10 times\n",
      "        43: data copyin transfers: 10\n",
      "             device time(us): total=7,108 max=1,194 min=647 avg=710\n",
      "        58: data copyout transfers: 5\n",
      "             device time(us): total=3,302 max=712 min=644 avg=660\n"
     ]
    }
   ],
   "source": [
    "!nvcc --run -ccbin pgc++ -O2 -Xcompiler \"-V19.4 -Bstatic_pgi -acc -ta=tesla:nordc -ta=time\" openacc.cpp -o openacc"
   ]
  },
  {
   "cell_type": "markdown",
   "metadata": {},
   "source": [
    "Why error? While if you are running the newest driver, 410.67, profiling requires elevated permissions"
   ]
  },
  {
   "cell_type": "code",
   "execution_count": null,
   "metadata": {},
   "outputs": [
    {
     "name": "stdout",
     "output_type": "stream",
     "text": [
      "[sudo] password for belt: "
     ]
    }
   ],
   "source": [
    "\n",
    "!sudo LD_LIBRARY_PATH=/usr/local/cuda/extra/CUPTI/lib64:$LD_LIBRARY_PATH ./openacc"
   ]
  },
  {
   "cell_type": "markdown",
   "metadata": {},
   "source": [
    "# BLAS\n",
    "[blas.cpp](/edit/blas.cpp)"
   ]
  },
  {
   "cell_type": "code",
   "execution_count": null,
   "metadata": {},
   "outputs": [],
   "source": [
    "!nvcc --run -ccbin pgc++ -O2 -Xlinker \"-lblas\" -Xcompiler \"-V19.4\" blas.cpp -o blas"
   ]
  },
  {
   "cell_type": "code",
   "execution_count": null,
   "metadata": {},
   "outputs": [],
   "source": [
    "!./blas 128"
   ]
  },
  {
   "cell_type": "markdown",
   "metadata": {},
   "source": []
  },
  {
   "cell_type": "markdown",
   "metadata": {},
   "source": [
    "# cuBLAS\n",
    "[cublas.cpp](/edit/cublas.cpp)"
   ]
  },
  {
   "cell_type": "code",
   "execution_count": null,
   "metadata": {},
   "outputs": [],
   "source": [
    "!nvcc --run -O2 -lcublas cublas.cpp -o cublas"
   ]
  },
  {
   "cell_type": "code",
   "execution_count": null,
   "metadata": {},
   "outputs": [],
   "source": [
    "!./cublas 128"
   ]
  },
  {
   "cell_type": "markdown",
   "metadata": {},
   "source": []
  },
  {
   "cell_type": "markdown",
   "metadata": {},
   "source": [
    "# CUDA\n",
    "[cuda.cu](/edit/cuda.cu)"
   ]
  },
  {
   "cell_type": "code",
   "execution_count": null,
   "metadata": {},
   "outputs": [],
   "source": [
    "!nvcc --run -O2 cuda.cu -o cuda"
   ]
  },
  {
   "cell_type": "code",
   "execution_count": null,
   "metadata": {},
   "outputs": [],
   "source": [
    "!./cuda 128"
   ]
  },
  {
   "cell_type": "markdown",
   "metadata": {},
   "source": []
  }
 ],
 "metadata": {
  "kernelspec": {
   "display_name": "Python 3",
   "language": "python",
   "name": "python3"
  },
  "language_info": {
   "codemirror_mode": {
    "name": "ipython",
    "version": 3
   },
   "file_extension": ".py",
   "mimetype": "text/x-python",
   "name": "python",
   "nbconvert_exporter": "python",
   "pygments_lexer": "ipython3",
   "version": "3.6.8"
  }
 },
 "nbformat": 4,
 "nbformat_minor": 2
}
